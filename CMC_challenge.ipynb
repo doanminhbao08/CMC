{
 "cells": [
  {
   "cell_type": "markdown",
   "metadata": {},
   "source": [
    "# Ý tưởng giải thuật\n",
    "Ý tưởng giải thuật của em là:\n",
    "1) Sắp xếp lại các prefix trong 2 operator theo chiều dài của prefix, từ lớn đến nhỏ\n",
    "2) Duyệt số điện thoại được cung cấp trong cả 2 operator\n",
    "3) Nếu tồn tại prefix ở chỉ một operator, báo operator + price\n",
    "4) Nếu tồn tại prefix ở cả 2 operator, so sánh, chọn operator có price nhỏ hơn, báo operator + price "
   ]
  },
  {
   "cell_type": "markdown",
   "metadata": {},
   "source": [
    "# Step 1: Nhập data của 2 operators "
   ]
  },
  {
   "cell_type": "code",
   "execution_count": 118,
   "metadata": {},
   "outputs": [],
   "source": [
    "prefix_A = [\"1\", \"268\", \"46\", \"4620\", \"468\", \"4631\", \"4673\", \"46732\"]\n",
    "price_A =  [0.9, 5.1, 0.17, 0, 0.15, 0.15, 0.9, 11]\n",
    "\n",
    "prefix_B = [\"1\", \"44\", \"46\", \"467\", \"48\"]\n",
    "price_B = [0.92, 0.5, 0.2, 1, 1.2]"
   ]
  },
  {
   "cell_type": "code",
   "execution_count": 119,
   "metadata": {},
   "outputs": [
    {
     "name": "stdout",
     "output_type": "stream",
     "text": [
      "True\n"
     ]
    }
   ],
   "source": [
    "# Check the data\n",
    "if len(prefix_A) == len(price_A) and len(prefix_B) == len(price_B):\n",
    "    print(\"True\")\n",
    "else:\n",
    "    print(\"False\")"
   ]
  },
  {
   "cell_type": "markdown",
   "metadata": {},
   "source": [
    "# Step 2: Sắp xếp lại các prefix theo độ dài, từ lớn đến nhỏ "
   ]
  },
  {
   "cell_type": "code",
   "execution_count": 120,
   "metadata": {},
   "outputs": [],
   "source": [
    "def selection_sort(prefix_arr, price_arr):\n",
    "    n = len(prefix_arr)\n",
    "    for i in range(n):\n",
    "        min_index = i\n",
    "        for j in range(i + 1, n):\n",
    "            if len(prefix_arr[j]) > len(prefix_arr[min_index]):\n",
    "                min_index = j\n",
    "        prefix_arr[i], prefix_arr[min_index] = prefix_arr[min_index], prefix_arr[i]\n",
    "        price_arr[i], price_arr[min_index] = price_arr[min_index], price_arr[i]\n"
   ]
  },
  {
   "cell_type": "code",
   "execution_count": 121,
   "metadata": {},
   "outputs": [
    {
     "name": "stdout",
     "output_type": "stream",
     "text": [
      "['46732', '4620', '4631', '4673', '468', '268', '46', '1']\n",
      "[11, 0, 0.15, 0.9, 0.15, 5.1, 0.17, 0.9]\n",
      "['467', '44', '46', '48', '1']\n",
      "[1, 0.5, 0.2, 1.2, 0.92]\n"
     ]
    }
   ],
   "source": [
    "# Sắp xếp lại\n",
    "selection_sort(prefix_A, price_A)\n",
    "selection_sort(prefix_B, price_B)\n",
    "print(prefix_A)\n",
    "print(price_A)\n",
    "print(prefix_B)\n",
    "print(price_B)"
   ]
  },
  {
   "cell_type": "markdown",
   "metadata": {},
   "source": [
    "# Step 3: Duyệt input ở 2 operators"
   ]
  },
  {
   "cell_type": "code",
   "execution_count": 131,
   "metadata": {},
   "outputs": [],
   "source": [
    "input = \"467324232344\""
   ]
  },
  {
   "cell_type": "code",
   "execution_count": 132,
   "metadata": {},
   "outputs": [],
   "source": [
    "def matching_prefix(prefix_arr, price_arr):\n",
    "    chosen_prefix = \"\"\n",
    "    chosen_price = 0\n",
    "    for i in range(len(prefix_arr)):\n",
    "        fit = 0\n",
    "        for j in range(len(prefix_arr[i])):       \n",
    "            if(prefix_arr[i][j] == input[j]):\n",
    "                fit = fit + 1\n",
    "        if fit == len(prefix_arr[i]):\n",
    "                chosen_prefix = prefix_arr[i]\n",
    "                chosen_price = price_arr[i]\n",
    "                #print(chosen_prefix, chosen_price)\n",
    "                break\n",
    "    return chosen_prefix, chosen_price       \n",
    "    "
   ]
  },
  {
   "cell_type": "code",
   "execution_count": 133,
   "metadata": {},
   "outputs": [
    {
     "name": "stdout",
     "output_type": "stream",
     "text": [
      "46732 11\n",
      "467 1\n"
     ]
    }
   ],
   "source": [
    "chosen_prefix_A, chosen_price_A = matching_prefix(prefix_A, price_A)\n",
    "chosen_prefix_B, chosen_price_B = matching_prefix(prefix_B, price_B)\n",
    "print(chosen_prefix_A, chosen_price_A)\n",
    "print(chosen_prefix_B, chosen_price_B)"
   ]
  },
  {
   "cell_type": "markdown",
   "metadata": {},
   "source": [
    "# Step 4: Lựa chọn operator phù hợp"
   ]
  },
  {
   "cell_type": "code",
   "execution_count": 134,
   "metadata": {},
   "outputs": [
    {
     "name": "stdout",
     "output_type": "stream",
     "text": [
      "The cheapest way is to use the operator B: prefix: 467, price: 1$\n"
     ]
    }
   ],
   "source": [
    "if chosen_prefix_A == \"\" and chosen_prefix_B == \"\":\n",
    "    print(\"Wrong number\")\n",
    "elif chosen_prefix_A == \"\":\n",
    "    print(\"The only way is to use the operator B: prefix: {}, price: {}$\".format(chosen_prefix_B, chosen_price_B))\n",
    "elif chosen_prefix_B == \"\":\n",
    "    print(\"The only way is to use the operator A: prefix: {}, price: {}$\".format(chosen_prefix_A, chosen_price_A))\n",
    "else:\n",
    "    if(chosen_price_A < chosen_price_B):\n",
    "        print(\"The cheapest way is to use the operator A: prefix: {}, price: {}$\".format(chosen_prefix_A, chosen_price_A))\n",
    "    else:\n",
    "        print(\"The cheapest way is to use the operator B: prefix: {}, price: {}$\".format(chosen_prefix_B, chosen_price_B))"
   ]
  }
 ],
 "metadata": {
  "kernelspec": {
   "display_name": "Python 3",
   "language": "python",
   "name": "python3"
  },
  "language_info": {
   "codemirror_mode": {
    "name": "ipython",
    "version": 3
   },
   "file_extension": ".py",
   "mimetype": "text/x-python",
   "name": "python",
   "nbconvert_exporter": "python",
   "pygments_lexer": "ipython3",
   "version": "3.12.2"
  }
 },
 "nbformat": 4,
 "nbformat_minor": 2
}
